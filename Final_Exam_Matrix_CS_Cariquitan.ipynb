{
  "nbformat": 4,
  "nbformat_minor": 0,
  "metadata": {
    "colab": {
      "provenance": []
    },
    "kernelspec": {
      "name": "python3",
      "display_name": "Python 3"
    },
    "language_info": {
      "name": "python"
    }
  },
  "cells": [
    {
      "cell_type": "code",
      "execution_count": 1,
      "metadata": {
        "colab": {
          "base_uri": "https://localhost:8080/"
        },
        "id": "jjcJKkaSD4iG",
        "outputId": "761b6b3e-b413-4a7d-db16-876fd876768a"
      },
      "outputs": [
        {
          "output_type": "stream",
          "name": "stdout",
          "text": [
            "Generated 3x4 Matrix:\n",
            "[[ 9 10  3 18]\n",
            " [17  8  3 14]\n",
            " [16 12 12 13]]\n",
            "\n",
            "Coefficient Matrix (A):\n",
            "[[ 9 10  3]\n",
            " [17  8  3]\n",
            " [16 12 12]]\n",
            "\n",
            "Right-hand Side Vector (b):\n",
            "[18 14 13]\n"
          ]
        }
      ],
      "source": [
        "import numpy as np\n",
        "\n",
        "# Step 1: Generate a 3x4 random matrix\n",
        "matrix_3x4 = np.random.randint(1, 21, size=(3, 4))  # Adjust range as needed\n",
        "A = matrix_3x4[:, :3]  # Coefficient matrix (first 3 columns)\n",
        "b = matrix_3x4[:, 3]   # Right-hand side vector (last column)\n",
        "\n",
        "print(\"Generated 3x4 Matrix:\")\n",
        "print(matrix_3x4)\n",
        "print(\"\\nCoefficient Matrix (A):\")\n",
        "print(A)\n",
        "print(\"\\nRight-hand Side Vector (b):\")\n",
        "print(b)"
      ]
    },
    {
      "cell_type": "code",
      "source": [
        "# Solve using Matrix Inverse Method\n",
        "try:\n",
        "    A_inv = np.linalg.inv(A)  # Compute A^-1\n",
        "    x_manual = np.dot(A_inv, b)  # x = A^-1 * b\n",
        "    print(\"\\nSolution using Matrix Inverse Method:\")\n",
        "    print(x_manual)\n",
        "except np.linalg.LinAlgError:\n",
        "    print(\"\\nMatrix A is singular and cannot be inverted.\")\n",
        "\n",
        "# Solve using Gaussian Elimination\n",
        "x_gaussian = np.linalg.solve(A, b)  # Direct Gaussian elimination\n",
        "print(\"\\nSolution using Gaussian Elimination (NumPy):\")\n",
        "print(x_gaussian)\n",
        "\n",
        "# Verify the solution\n",
        "b_check = np.dot(A, x_gaussian)  # Recompute b using A and the computed x\n",
        "print(\"\\nVerification (Ax = b):\")\n",
        "print(b_check)"
      ],
      "metadata": {
        "colab": {
          "base_uri": "https://localhost:8080/"
        },
        "id": "DZUr9jgHQ5TA",
        "outputId": "36beb684-e70a-4b36-c71e-e68f7f2c9fe9"
      },
      "execution_count": 2,
      "outputs": [
        {
          "output_type": "stream",
          "name": "stdout",
          "text": [
            "\n",
            "Solution using Matrix Inverse Method:\n",
            "[ 0.02272727  2.09090909 -1.03787879]\n",
            "\n",
            "Solution using Gaussian Elimination (NumPy):\n",
            "[ 0.02272727  2.09090909 -1.03787879]\n",
            "\n",
            "Verification (Ax = b):\n",
            "[18. 14. 13.]\n"
          ]
        }
      ]
    }
  ]
}